{
 "cells": [
  {
   "cell_type": "code",
   "execution_count": 19,
   "id": "ab395f53",
   "metadata": {},
   "outputs": [],
   "source": [
    "import galaxy_objects as ob\n",
    "\n",
    "gamestate = open(\"gamestate\").read().replace(\"\\t\",\"    \").splitlines()"
   ]
  },
  {
   "cell_type": "code",
   "execution_count": 21,
   "id": "e08bb152",
   "metadata": {},
   "outputs": [],
   "source": [
    "def save_reader(gamestate):\n",
    "    current_line = 0\n",
    "    nebula_list = nebula_organizer(current_line,gamestate)\n",
    "    system_list = system_organizer(current_line,gamestate)\n",
    "    starbase_list = starbase_organizer(current_line,gamestate)\n",
    "    return nebula_list, system_list, starbase_list\n",
    "\n",
    "\n",
    "def nebula_organizer(current_line,gamestate):\n",
    "    nebula_list = []\n",
    "    for line_number in range(current_line,len(gamestate)):\n",
    "        if \"nebula={\" in gamestate[line_number]:\n",
    "            #Attribute collection\n",
    "            ID = len(nebula_list)\n",
    "            name = gamestate[line_number + 7][11:-1]\n",
    "            x_coord = float(gamestate[line_number + 2][10:])\n",
    "            y_coord = float(gamestate[line_number + 3][10:])\n",
    "            radius = int(gamestate[line_number + 8][11:])\n",
    "            #Object creation\n",
    "            nebula_list.append(ob.nebula(line_number,ID,name,x_coord,y_coord,radius))\n",
    "            #Line increment for speed\n",
    "            current_line = line_number\n",
    "        elif \"construction={\" in gamestate[line_number]:\n",
    "            break\n",
    "    return nebula_list\n",
    "\n",
    "\n",
    "def system_organizer(current_line,gamestate):\n",
    "    system_list = []\n",
    "    for line_number in range(current_line,len(gamestate)):\n",
    "        if (\"type=star\" in gamestate[line_number]) and (\"type=starbase\" not in gamestate[line_number]):\n",
    "            #Attribute collection\n",
    "            ID = len(system_list)\n",
    "            name = gamestate[line_number+1][14:-1]\n",
    "            x_coord = float(gamestate[line_number - 5][14:])\n",
    "            y_coord = float(gamestate[line_number - 4][14:])\n",
    "            owner_ID = -1\n",
    "            starbase_ID = system_find_starbase_ID(line_number,gamestate)\n",
    "            connections = \"None\"\n",
    "            #Object creation\n",
    "            system_list.append(ob.system(line_number,ID,name,x_coord,y_coord,owner_ID,starbase_ID,connections))\n",
    "            #Line increment for speed\n",
    "            current_line = line_number\n",
    "        elif \"starbase_mgr={\" in gamestate[line_number]:\n",
    "            break\n",
    "    return system_list\n",
    "\n",
    "def system_find_starbase_ID(line_number,gamestate):\n",
    "    for sub_line_number in range(line_number + 1, line_number + 100):\n",
    "        if (\"starbase=\" in gamestate[sub_line_number]) and (\"dpe_recent_talent\" not in gamestate[sub_line_number]):\n",
    "            return int(gamestate[sub_line_number][17:])\n",
    "    return -1\n",
    "\n",
    "def starbase_organizer(current_line,gamestate):\n",
    "    starbase_list = []\n",
    "    for line_number in range(current_line,len(gamestate)):\n",
    "        if 'level=\"starbase_level' in gamestate[line_number]:\n",
    "            #Attribute collection\n",
    "            ID = int(gamestate[line_number - 1][8:-2])\n",
    "            level = gamestate[line_number][34:-1]\n",
    "            owner_ID = starbase_find_owner_ID(line_number,gamestate)\n",
    "            modules = \"None\"\n",
    "            buildings = \"None\"\n",
    "            #Object creation\n",
    "            starbase_list.append(ob.starbase(line_number,ID,level,owner_ID,modules,buildings))\n",
    "            #Line increment for speed\n",
    "            current_line = line_number\n",
    "        elif \"planets={\" in gamestate[line_number]:\n",
    "            break\n",
    "    return starbase_list\n",
    "\n",
    "def starbase_find_owner_ID(line_number,gamestate):\n",
    "    for sub_line_number in range(line_number + 5, line_number + 10):\n",
    "        if \"owner=\" in gamestate[sub_line_number]:\n",
    "            return int(gamestate[sub_line_number][18:])\n",
    "    return -1\n",
    "\n",
    "def system_find_owner(system_list,starbase_list):\n",
    "    for system in system_list:\n",
    "        for starbase in starbase_list:\n",
    "            if system.starbase_ID == starbase.ID:\n",
    "                system.owner_ID = starbase.owner_ID\n",
    "                break\n",
    "\n",
    "nebula_list, system_list, starbase_list = save_reader(gamestate)\n",
    "system_find_owner(system_list,starbase_list)"
   ]
  },
  {
   "cell_type": "code",
   "execution_count": 22,
   "id": "aefb528e",
   "metadata": {},
   "outputs": [
    {
     "data": {
      "text/plain": [
       "{'ID': 524,\n",
       " 'name': 'Pozuno',\n",
       " 'x_coord': 294.52,\n",
       " 'y_coord': 120.54,\n",
       " 'owner_ID': 12,\n",
       " 'connections': 'None',\n",
       " 'starbase_ID': 26}"
      ]
     },
     "execution_count": 22,
     "metadata": {},
     "output_type": "execute_result"
    }
   ],
   "source": [
    "system_list[524].__dict__"
   ]
  },
  {
   "cell_type": "code",
   "execution_count": 23,
   "id": "153f64f8",
   "metadata": {},
   "outputs": [
    {
     "data": {
      "text/plain": [
       "{'line_number': 416618,\n",
       " 'ID': 525,\n",
       " 'level': 'starport',\n",
       " 'owner_ID': 40,\n",
       " 'modules': 'None',\n",
       " 'buildings': 'None'}"
      ]
     },
     "execution_count": 23,
     "metadata": {},
     "output_type": "execute_result"
    }
   ],
   "source": [
    "starbase_list[525].__dict__"
   ]
  },
  {
   "cell_type": "code",
   "execution_count": null,
   "id": "79001485",
   "metadata": {},
   "outputs": [],
   "source": []
  }
 ],
 "metadata": {
  "kernelspec": {
   "display_name": "Python 3",
   "language": "python",
   "name": "python3"
  },
  "language_info": {
   "codemirror_mode": {
    "name": "ipython",
    "version": 3
   },
   "file_extension": ".py",
   "mimetype": "text/x-python",
   "name": "python",
   "nbconvert_exporter": "python",
   "pygments_lexer": "ipython3",
   "version": "3.7.10"
  }
 },
 "nbformat": 4,
 "nbformat_minor": 5
}
